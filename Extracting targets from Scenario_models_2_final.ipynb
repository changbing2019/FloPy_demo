{
 "cells": [
  {
   "cell_type": "code",
   "execution_count": 1,
   "metadata": {},
   "outputs": [
    {
     "name": "stdout",
     "output_type": "stream",
     "text": [
      "flopy is installed in f:\\Anaconda3\\lib\\site-packages\\flopy\n"
     ]
    }
   ],
   "source": [
    "import sys\n",
    "import os\n",
    "import platform\n",
    "import numpy as np\n",
    "import matplotlib as mpl\n",
    "import matplotlib.pyplot as plt\n",
    "import pandas as pd\n",
    "\n",
    "# run installed version of flopy or add local path\n",
    "try:\n",
    "    import flopy\n",
    "except:\n",
    "    fpth = os.path.abspath(os.path.join('..', '..'))\n",
    "    sys.path.append(fpth)\n",
    "    import flopy\n"
   ]
  },
  {
   "cell_type": "code",
   "execution_count": 2,
   "metadata": {},
   "outputs": [
    {
     "data": {
      "text/plain": [
       "'F:\\\\FloPy_demo'"
      ]
     },
     "execution_count": 2,
     "metadata": {},
     "output_type": "execute_result"
    }
   ],
   "source": [
    "curpath = os.getcwd()\n",
    "curpath"
   ]
  },
  {
   "cell_type": "code",
   "execution_count": 3,
   "metadata": {},
   "outputs": [],
   "source": [
    "#Set the paths\n",
    "curpath = os.getcwd()\n",
    "modelpth=os.path.join(curpath,'mf2005')\n",
    "filehds=os.path.join(modelpth, 'demo_pred.hds')\n",
    "cbdf=os.path.join(modelpth, 'demo_pred.cbd')\n",
    "fcsv=os.path.join(modelpth, 'Demo_results_at_the targets.csv')\n",
    "Realization='Demo 2'"
   ]
  },
  {
   "cell_type": "markdown",
   "metadata": {},
   "source": [
    "### Setup basic info for flopy"
   ]
  },
  {
   "cell_type": "code",
   "execution_count": 4,
   "metadata": {},
   "outputs": [
    {
     "name": "stdout",
     "output_type": "stream",
     "text": [
      "3.7.4 (default, Aug  9 2019, 18:34:13) [MSC v.1915 64 bit (AMD64)]\n",
      "numpy version: 1.16.5\n",
      "matplotlib version: 3.1.1\n",
      "flopy version: 3.3.0\n"
     ]
    }
   ],
   "source": [
    "\n",
    "#Set name of MODFLOW exe\n",
    "#  assumes executable is in users path statement\n",
    "version = 'mf2005'\n",
    "exe_name = 'mf2005'\n",
    "if platform.system() == 'Windows':\n",
    "    exe_name = 'mf2005.exe'\n",
    "mfexe = exe_name\n",
    "\n",
    "\n",
    "\n",
    "\n",
    "#make sure modelpth directory exists\n",
    "if not os.path.exists(modelpth):\n",
    "    os.makedirs(modelpth)\n",
    "    \n",
    "print(sys.version)\n",
    "print('numpy version: {}'.format(np.__version__))\n",
    "print('matplotlib version: {}'.format(mpl.__version__))\n",
    "print('flopy version: {}'.format(flopy.__version__))"
   ]
  },
  {
   "cell_type": "markdown",
   "metadata": {},
   "source": [
    "### load the MODFLOW model\n"
   ]
  },
  {
   "cell_type": "markdown",
   "metadata": {},
   "source": [
    "There are some issues to load the EAA bottom-up run with plopy. So I decided to use the USGS scenario simulation run by replacing the RCH file from the EAA bottom-up run because I just want to check the recharge rate applied to the four cells."
   ]
  },
  {
   "cell_type": "code",
   "execution_count": null,
   "metadata": {},
   "outputs": [],
   "source": [
    "ml = flopy.modflow.Modflow.load('demo_pred.nam', model_ws=modelpth, \n",
    "                                exe_name=exe_name, version=version)\n",
    "#ml.model_ws = modelpth\n"
   ]
  },
  {
   "cell_type": "markdown",
   "metadata": {},
   "source": [
    "### Show basic info for the model"
   ]
  },
  {
   "cell_type": "code",
   "execution_count": null,
   "metadata": {},
   "outputs": [],
   "source": [
    "ml"
   ]
  },
  {
   "cell_type": "markdown",
   "metadata": {},
   "source": [
    "### List the packages"
   ]
  },
  {
   "cell_type": "code",
   "execution_count": null,
   "metadata": {},
   "outputs": [],
   "source": [
    "ml.get_name_file_entries().split('\\n')"
   ]
  },
  {
   "cell_type": "markdown",
   "metadata": {},
   "source": [
    "### load the cells at the four targets (J17, J27, San Marcos Springs, and Comal Springs)\n"
   ]
  },
  {
   "cell_type": "markdown",
   "metadata": {},
   "source": [
    "The irow and jcolum for the two index wells are givien in the file by USGS\n",
    "  D:\\USGS_UA\\working\\_data\\head_obs.crd.csv\n",
    "  \n",
    "  The name (or state well number) in the csv file \n",
    "    6837203 for J17\n",
    "    6950302 for J27\n",
    "  note that row and col are started from 0"
   ]
  },
  {
   "cell_type": "code",
   "execution_count": null,
   "metadata": {},
   "outputs": [],
   "source": [
    "### this file is provided with USGS Uncertainty analysis for the EAA MODFLOW model. \n",
    "### USGS used this file to include all the water head observation data and\n",
    "### also provide the col and row for each observation well\n",
    "### the row and col are numbered from 0.\n",
    "targheadcell=pd.read_csv('head_obs.crd.csv')"
   ]
  },
  {
   "cell_type": "code",
   "execution_count": null,
   "metadata": {},
   "outputs": [],
   "source": [
    "targheadcell.head()"
   ]
  },
  {
   "cell_type": "code",
   "execution_count": null,
   "metadata": {},
   "outputs": [],
   "source": [
    "targheadcell.columns=['indx','name','x','y','layer','row','col']"
   ]
  },
  {
   "cell_type": "code",
   "execution_count": null,
   "metadata": {},
   "outputs": [],
   "source": [
    "targheadcell[targheadcell['name']=='6837203']    # this for J17"
   ]
  },
  {
   "cell_type": "code",
   "execution_count": null,
   "metadata": {},
   "outputs": [],
   "source": [
    "targheadcell[targheadcell['name']=='6950302']    # this for J27"
   ]
  },
  {
   "cell_type": "markdown",
   "metadata": {},
   "source": [
    "Load the cells for the drain to represent springs "
   ]
  },
  {
   "cell_type": "code",
   "execution_count": null,
   "metadata": {},
   "outputs": [],
   "source": [
    "### this file is provided with USGS Uncertainty analysis for the EAA MODFLOW model. \n",
    "### USGS used this file to include cells for each of the EAA springs \n",
    "### the row and col are numbered from 0.\n",
    "targsprgcell=pd.read_csv('DRN_dict.csv',header=None,delimiter=r\"\\s+\")"
   ]
  },
  {
   "cell_type": "code",
   "execution_count": null,
   "metadata": {},
   "outputs": [],
   "source": [
    "targsprgcell.columns=['name','layer','row','col']     "
   ]
  },
  {
   "cell_type": "code",
   "execution_count": null,
   "metadata": {},
   "outputs": [],
   "source": [
    "targsprgcell"
   ]
  },
  {
   "cell_type": "markdown",
   "metadata": {},
   "source": [
    "### load simulated water heads from the hds file for the J17 and J27"
   ]
  },
  {
   "cell_type": "code",
   "execution_count": null,
   "metadata": {},
   "outputs": [],
   "source": [
    "def extracttargethead(ml,filehds,targheadcell):\n",
    "        #filehds = os.path.join(modelpth,'eaa_pred.hds')\n",
    "        hds = flopy.utils.HeadFile(filehds)\n",
    "        row_j17=targheadcell[targheadcell['name']=='6837203']['row'].values[0]\n",
    "        col_j17=targheadcell[targheadcell['name']=='6837203']['col'].values[0]\n",
    "\n",
    "        row_j27=targheadcell[targheadcell['name']=='6950302']['row'].values[0]\n",
    "        col_j27=targheadcell[targheadcell['name']=='6950302']['col'].values[0]\n",
    "\n",
    "        print(row_j17,col_j17,row_j27,col_j27)\n",
    "\n",
    "        head_j17=[]\n",
    "        head_j27=[]\n",
    "        for kper in range (ml.nper):\n",
    "            kstpker=[0,kper]\n",
    "            h=hds.get_data(kstpkper=kstpker)\n",
    "            head_j17.append(h[0][row_j17][col_j17])\n",
    "            head_j27.append(h[0][row_j27][col_j27])   \n",
    "\n",
    "        return head_j17,head_j27 \n",
    "             "
   ]
  },
  {
   "cell_type": "code",
   "execution_count": null,
   "metadata": {},
   "outputs": [],
   "source": [
    "\n",
    "\n",
    "SR_j17,SR_j27= extracttargethead(ml,filehds,targheadcell)\n",
    "\n"
   ]
  },
  {
   "cell_type": "markdown",
   "metadata": {},
   "source": [
    "### load the drain file and read simulated spring dsicharges at the target cells"
   ]
  },
  {
   "cell_type": "markdown",
   "metadata": {},
   "source": [
    "Note that the unit for the drain ouput (*.cbd) is ft3/day with a negtaibe sign. Unit for the observed discharge rate is ft3/s with a positive sign. The values read from the output file need to be converted by divided the factor of -24*60*60."
   ]
  },
  {
   "cell_type": "code",
   "execution_count": null,
   "metadata": {},
   "outputs": [],
   "source": [
    "### the following is to get the row and col for the San Marcos Springs and Comal springs. \n",
    "### NOte thatthe Modflow model starts the row and the col from 1, but FloPy from 0.\n",
    "def extracttargetspring(ml,cbdf,targsprgcell):\n",
    "    \n",
    "    row_sm=targsprgcell[targsprgcell['name']=='SanMar']['row'].values[0]\n",
    "    col_sm=targsprgcell[targsprgcell['name']=='SanMar']['col'].values[0]\n",
    "\n",
    "    row_comal=targsprgcell[targsprgcell['name']=='Comal']['row'].values[0]\n",
    "    col_comal=targsprgcell[targsprgcell['name']=='Comal']['col'].values[0]\n",
    "\n",
    "    print(row_sm,col_sm,row_comal,col_comal)\n",
    "\n",
    "    cbd = flopy.utils.CellBudgetFile(cbdf,precision='double')\n",
    "\n",
    "    flx_sm=[]\n",
    "    flx_comal=[]\n",
    "    for kper in range (ml.nper):\n",
    "        kstpker=[0,kper]\n",
    "        flx=cbd.get_data(kstpkper=kstpker)\n",
    "        flx_sm.append(flx[0][0][row_sm][col_sm]/(-24*60*60))\n",
    "        flx_comal.append(flx[0][0][row_comal][col_comal]/(-24*60*60))  \n",
    "    \n",
    "    return flx_sm,flx_comal"
   ]
  },
  {
   "cell_type": "code",
   "execution_count": null,
   "metadata": {},
   "outputs": [],
   "source": [
    "\n",
    "\n",
    "SR_sm,SR_comal= extracttargetspring(ml,cbdf,targsprgcell)\n"
   ]
  },
  {
   "cell_type": "markdown",
   "metadata": {},
   "source": [
    "### load the observed targets from the archived bottom up runs"
   ]
  },
  {
   "cell_type": "markdown",
   "metadata": {},
   "source": [
    "two files are stored in the following folder\n",
    "D:\\Bottom-Up Archive\\Bottom-Up Model Runs\\L4STG5_MarcTrigger_newASRSchedule_AddVISPO_for30cfs\n",
    "\n",
    "target_flux.xlsx    # this is for the spring discharges\n",
    "target_head.xlsx    # this is for the observed groundwater head \n",
    "\n",
    "\n"
   ]
  },
  {
   "cell_type": "markdown",
   "metadata": {},
   "source": [
    "first let us load the water head"
   ]
  },
  {
   "cell_type": "code",
   "execution_count": null,
   "metadata": {},
   "outputs": [],
   "source": [
    "xls_name='target_head.xlsx'\n",
    "J17_sheet_name='J-17'\n",
    "J27_sheet_name='J-27'"
   ]
  },
  {
   "cell_type": "code",
   "execution_count": null,
   "metadata": {},
   "outputs": [],
   "source": [
    "ori_J17 = pd.read_excel(xls_name, sheet_name = J17_sheet_name)\n",
    "ori_J27 = pd.read_excel(xls_name, sheet_name = J27_sheet_name)\n",
    "ob_j17=ori_J17['Observed'].to_list()\n",
    "ob_j27=ori_J27['Observed'].to_list()\n",
    "\n"
   ]
  },
  {
   "cell_type": "markdown",
   "metadata": {},
   "source": [
    "let us load the spring dischare rates for the springs"
   ]
  },
  {
   "cell_type": "code",
   "execution_count": null,
   "metadata": {},
   "outputs": [],
   "source": [
    "xls_name='target_flux.xlsx'\n",
    "comal_sheet_name='Comal'\n",
    "sm_sheet_name='SanMarcos'"
   ]
  },
  {
   "cell_type": "code",
   "execution_count": null,
   "metadata": {},
   "outputs": [],
   "source": [
    "ori_comal = pd.read_excel(xls_name, sheet_name = comal_sheet_name)\n",
    "ori_sm = pd.read_excel(xls_name, sheet_name = sm_sheet_name)\n",
    "ob_comal=ori_comal['Observed'].to_list()\n",
    "ob_sm=ori_sm['Observed'].to_list()\n"
   ]
  },
  {
   "cell_type": "code",
   "execution_count": null,
   "metadata": {},
   "outputs": [],
   "source": [
    "date=pd.date_range(start='1/31/1947', end='12/31/1958', freq='M') #.to_period('M')"
   ]
  },
  {
   "cell_type": "code",
   "execution_count": null,
   "metadata": {},
   "outputs": [],
   "source": [
    "print(len(date))\n",
    "print(len(ob_j17[0:144]),len(ob_j27),len(ob_comal),len(ob_sm))\n",
    "print(len(SR_j17),len(SR_j27),len(SR_comal),len(SR_sm))\n",
    "#print(len(r_j17_lst),len(r_j27_lst),len(r_comal_lst),len(r_sanmar_lst))\n"
   ]
  },
  {
   "cell_type": "code",
   "execution_count": null,
   "metadata": {},
   "outputs": [],
   "source": [
    "### the first column is date, the following four columns are observed and the last four columns are simulated\n",
    "df=pd.DataFrame({'date':date,'ob_j17_ft':ob_j17,'ob_j27_ft':ob_j27,'ob_comal_cfs':ob_comal,'ob_sm_cfs':ob_sm,\n",
    "                'simh_j17_ft':SR_j17,'simh_j27_ft':SR_j27,'simq_comal_cfs':SR_comal,'simq_sm_cfs':SR_sm})"
   ]
  },
  {
   "cell_type": "code",
   "execution_count": null,
   "metadata": {},
   "outputs": [],
   "source": [
    "df.set_index(\"date\", inplace = True)   # reset the index with datetimeindex"
   ]
  },
  {
   "cell_type": "code",
   "execution_count": null,
   "metadata": {},
   "outputs": [],
   "source": [
    "df.head()"
   ]
  },
  {
   "cell_type": "code",
   "execution_count": null,
   "metadata": {},
   "outputs": [],
   "source": [
    "df.to_csv(fcsv)"
   ]
  },
  {
   "cell_type": "code",
   "execution_count": null,
   "metadata": {},
   "outputs": [],
   "source": [
    "df.tail()"
   ]
  },
  {
   "cell_type": "code",
   "execution_count": null,
   "metadata": {},
   "outputs": [],
   "source": []
  },
  {
   "cell_type": "markdown",
   "metadata": {},
   "source": [
    "### Plot the results "
   ]
  },
  {
   "cell_type": "code",
   "execution_count": null,
   "metadata": {},
   "outputs": [],
   "source": [
    "def drawplotts(df,obcol,simcol,title,ylabel,xlabel,ylim):\n",
    "    fig,ax=plt.subplots(figsize=(14,6))\n",
    "    df[simcol].plot(color='b',linestyle='-',marker='',label='Simulated',legend=True,ax=ax)\n",
    "    df[obcol].plot(color='r',linestyle='',marker='o',label='Observed',legend=True,ax=ax)\n",
    "    ax.tick_params(axis='both', which='major', labelsize=14)\n",
    "    plt.title(title,fontsize=14)\n",
    "    ax.set_ylabel(ylabel,fontsize=14)\n",
    "    ax.set_xlabel(xlabel,fontsize=14)    \n",
    "    ax.set_ylim(ylim)   "
   ]
  },
  {
   "cell_type": "code",
   "execution_count": null,
   "metadata": {},
   "outputs": [],
   "source": [
    "### for water head at J17\n",
    "obcol='ob_j17_ft'\n",
    "simcol='simh_j17_ft'\n",
    "title='Comparison of water heads at the J17 for the USGS '+ Realization\n",
    "ylabel='Groundwater head (ft)'\n",
    "xlabel='Date'\n",
    "ylim=[580,700]\n",
    "drawplotts(df,obcol,simcol,title,ylabel,xlabel,ylim)"
   ]
  },
  {
   "cell_type": "code",
   "execution_count": null,
   "metadata": {},
   "outputs": [],
   "source": [
    "### for water head at J27\n",
    "\n",
    "obcol='ob_j27_ft'\n",
    "simcol='simh_j27_ft'\n",
    "title='Comparison of water heads at the J27 for the USGS '+ Realization\n",
    "ylabel='Groundwater head (ft)'\n",
    "xlabel='Date'\n",
    "ylim=[700,900]\n",
    "drawplotts(df,obcol,simcol,title,ylabel,xlabel,ylim)"
   ]
  },
  {
   "cell_type": "code",
   "execution_count": null,
   "metadata": {},
   "outputs": [],
   "source": [
    "### for spring flows at Comal springs\n",
    "obcol='ob_comal_cfs'\n",
    "simcol='simq_comal_cfs'\n",
    "title='Comparison of spring dsicahrges  at the Comal Springs for the USGS '+ Realization\n",
    "ylabel='Spring discharge (cfs)'\n",
    "xlabel='Date'\n",
    "ylim=[0,500]\n",
    "drawplotts(df,obcol,simcol,title,ylabel,xlabel,ylim)"
   ]
  },
  {
   "cell_type": "code",
   "execution_count": null,
   "metadata": {},
   "outputs": [],
   "source": [
    "### for spring flows at San Marcos springs\n",
    "obcol='ob_sm_cfs'\n",
    "simcol='simq_sm_cfs'\n",
    "title='Comparison of spring dsicahrges  at the San Marocos Springs for the USGS '+ Realization\n",
    "ylabel='Spring discharge (cfs)'\n",
    "xlabel='Date'\n",
    "ylim=[40,350]\n",
    "drawplotts(df,obcol,simcol,title,ylabel,xlabel,ylim)"
   ]
  },
  {
   "cell_type": "code",
   "execution_count": null,
   "metadata": {},
   "outputs": [],
   "source": [
    "#### plot the 1to1comparison"
   ]
  },
  {
   "cell_type": "code",
   "execution_count": null,
   "metadata": {},
   "outputs": [],
   "source": [
    "def drawsubplots(ax,x,y,xline,title='a)',xlabel='observed',ylabel='simulated',lgd=False):\n",
    "    \n",
    "    ax.plot(xline,xline,color='r',linestyle='-',label='1:1 line')\n",
    "    ax.plot(x,y, color='b',linestyle='',marker='o',label='Simulated')\n",
    "    ax.set_title(title,fontsize=16)\n",
    "    ax.set_ylabel(ylabel,fontsize=16)\n",
    "    ax.set_xlabel(xlabel,fontsize=16)\n",
    "    if lgd==True:\n",
    "        ax.legend(loc='best',ncol=1,fontsize=16)\n",
    "    ax.tick_params(axis=\"x\", labelsize=16)\n",
    "    ax.tick_params(axis=\"y\", labelsize=16)"
   ]
  },
  {
   "cell_type": "code",
   "execution_count": null,
   "metadata": {},
   "outputs": [],
   "source": [
    "fig,axes=plt.subplots(2,2,figsize=(14,14))\n",
    "## plot J17\n",
    "ax=axes[0,0]\n",
    "x=df['ob_j17_ft'].values\n",
    "y=df['simh_j17_ft'].values\n",
    "xline=[600,700]\n",
    "title='a) J17'\n",
    "xlabel='observed head(ft)'\n",
    "ylabel='simulated head(ft)'\n",
    "lgd=False\n",
    "drawsubplots(ax,x,y,xline,title,xlabel,ylabel,lgd)   \n",
    "\n",
    "    ## plot J27\n",
    "ax=axes[0,1]\n",
    "x=df['ob_j27_ft'].values\n",
    "y=df['simh_j27_ft'].values\n",
    "xline=[800,900]\n",
    "title='b) J27'\n",
    "xlabel='observed head(ft)'\n",
    "ylabel='simulated head(ft)'\n",
    "lgd=False\n",
    "drawsubplots(ax,x,y,xline,title,xlabel,ylabel,lgd)   \n",
    "\n",
    "    \n",
    "## plot Comal springs\n",
    "ax=axes[1,0]\n",
    "x=df['ob_comal_cfs'].values\n",
    "y=df['simq_comal_cfs'].values\n",
    "xline=[0,500]\n",
    "title='c) Comal Springs'\n",
    "xlabel='observed discharge(cfs)'\n",
    "ylabel='simulated discharge(cfs)'\n",
    "lgd=False\n",
    "drawsubplots(ax,x,y,xline,title,xlabel,ylabel,lgd)   \n",
    "   \n",
    "\n",
    "## plot San Marcos springs\n",
    "ax=axes[1,1]\n",
    "x=df['ob_sm_cfs'].values\n",
    "y=df['simq_sm_cfs'].values\n",
    "xline=[0,500]\n",
    "title='d) San Marcos Springs'\n",
    "xlabel='observed discharge(cfs)'\n",
    "ylabel='simulated discharge(cfs)'\n",
    "lgd=True\n",
    "drawsubplots(ax,x,y,xline,title,xlabel,ylabel,lgd)   \n",
    "\n",
    "\n"
   ]
  },
  {
   "cell_type": "code",
   "execution_count": null,
   "metadata": {},
   "outputs": [],
   "source": []
  }
 ],
 "metadata": {
  "kernelspec": {
   "display_name": "Python 3",
   "language": "python",
   "name": "python3"
  },
  "language_info": {
   "codemirror_mode": {
    "name": "ipython",
    "version": 3
   },
   "file_extension": ".py",
   "mimetype": "text/x-python",
   "name": "python",
   "nbconvert_exporter": "python",
   "pygments_lexer": "ipython3",
   "version": "3.7.4"
  }
 },
 "nbformat": 4,
 "nbformat_minor": 2
}
